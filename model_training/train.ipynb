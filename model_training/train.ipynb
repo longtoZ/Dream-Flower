{
 "cells": [
  {
   "cell_type": "code",
   "execution_count": 1,
   "id": "a586e628-b81d-44c8-9ff8-1893caa59364",
   "metadata": {},
   "outputs": [],
   "source": [
    "from ultralytics import YOLO"
   ]
  },
  {
   "cell_type": "code",
   "execution_count": 2,
   "id": "eaddf31f-f4a7-455a-a611-5a58bfb9f786",
   "metadata": {},
   "outputs": [
    {
     "name": "stdout",
     "output_type": "stream",
     "text": [
      "2.6.0+cu118\n",
      "True\n"
     ]
    }
   ],
   "source": [
    "import torch\n",
    "print(torch.__version__)  # Should return a version number\n",
    "print(torch.cuda.is_available())  # Should return True"
   ]
  },
  {
   "cell_type": "code",
   "execution_count": null,
   "id": "cadbcc7e-7f9a-4d2f-b34f-23e2e4097d68",
   "metadata": {},
   "outputs": [],
   "source": [
    "# Create a new YOLO model from scratch\n",
    "model = YOLO(\"yolov8n.pt\")\n",
    "\n",
    "results = model.train(data=r\"C:\\Users\\VICTUS\\Documents\\OMR project\\dataset\\data.yaml\", epochs=100, device=\"cuda\")"
   ]
  },
  {
   "cell_type": "code",
   "execution_count": 2,
   "id": "f3d9a17b-9b3a-4145-9c2e-24d11cdee6b4",
   "metadata": {},
   "outputs": [],
   "source": [
    "import numpy as np\n",
    "\n",
    "# Function to generate N distinct colors\n",
    "def generate_colors(n):\n",
    "    np.random.seed(42)  # Fix seed for consistency\n",
    "    return [(int(c[0]), int(c[1]), int(c[2])) for c in np.random.randint(0, 255, (n, 3))]\n",
    "\n",
    "# Generate 20+ unique colors\n",
    "num_colors = 20\n",
    "colors = generate_colors(num_colors)"
   ]
  },
  {
   "cell_type": "code",
   "execution_count": null,
   "id": "c9f673af-1bd0-479b-85da-4d4424820fd8",
   "metadata": {
    "scrolled": true
   },
   "outputs": [],
   "source": [
    "import cv2\n",
    "import torch\n",
    "import matplotlib.pyplot as plt\n",
    "\n",
    "# Load a pretrained YOLO11n model\n",
    "model = YOLO(r\"C:\\Users\\VICTUS\\Documents\\OMR project\\runs\\detect\\train4\\weights\\best.pt\")\n",
    "\n",
    "# Check if CUDA (GPU) is available\n",
    "device = \"cuda\" if torch.cuda.is_available() else \"cpu\"\n",
    "model.to(device)\n",
    "\n",
    "image_path = r\"C:\\Users\\VICTUS\\Documents\\OMR project\\res\\dream_flower\\roi_2_reconstructed.jpg\"\n",
    "image = cv2.imread(image_path)\n",
    "\n",
    "# Validate the model\n",
    "results = model(image)\n",
    "\n",
    "# Loop through results and draw bounding boxes\n",
    "for result in results:\n",
    "    for i, box in enumerate(result.boxes):\n",
    "        x1, y1, x2, y2 = map(int, box.xyxy[0])  # Get bounding box coordinates\n",
    "\n",
    "        # Assign a color from the generated list (cycling through colors)\n",
    "        color = colors[i % len(colors)]\n",
    "\n",
    "        # Draw bounding box (without text)\n",
    "        cv2.rectangle(image, (x1, y1), (x2, y2), color, 2)\n",
    "\n",
    "# # Show image in a pop-up window\n",
    "# cv2.imshow(\"YOLO Detection\", image)\n",
    "\n",
    "# # Wait for key press and close the window\n",
    "# cv2.waitKey(0)\n",
    "# cv2.destroyAllWindows()\n",
    "\n",
    "# Set figure size (width=12, height=8)\n",
    "plt.figure(figsize=(14, 10))  # Adjust size as needed\n",
    "\n",
    "# Display the image\n",
    "plt.imshow(cv2.cvtColor(image, cv2.COLOR_BGR2RGB))\n",
    "plt.axis(\"off\")\n",
    "plt.show()"
   ]
  },
  {
   "cell_type": "code",
   "execution_count": null,
   "id": "89b16bb3-06fb-4ad9-8f12-fa20e14a7b2e",
   "metadata": {},
   "outputs": [],
   "source": []
  }
 ],
 "metadata": {
  "kernelspec": {
   "display_name": "Python 3 (ipykernel)",
   "language": "python",
   "name": "python3"
  },
  "language_info": {
   "codemirror_mode": {
    "name": "ipython",
    "version": 3
   },
   "file_extension": ".py",
   "mimetype": "text/x-python",
   "name": "python",
   "nbconvert_exporter": "python",
   "pygments_lexer": "ipython3",
   "version": "3.11.5"
  }
 },
 "nbformat": 4,
 "nbformat_minor": 5
}
