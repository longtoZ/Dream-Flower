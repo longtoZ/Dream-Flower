{
 "cells": [
  {
   "cell_type": "code",
   "execution_count": 4,
   "id": "cf11ae7b-27a2-4f89-a49b-dfb9883a6894",
   "metadata": {},
   "outputs": [],
   "source": [
    "import cv2\n",
    "import numpy as np"
   ]
  },
  {
   "cell_type": "code",
   "execution_count": 99,
   "id": "f83893c2-a113-4776-aff3-996d714484a1",
   "metadata": {},
   "outputs": [],
   "source": [
    "image = cv2.imread(\"img/Tada Koe Hitotsu 4.png\")\n",
    "lines_image = image.copy()\n",
    "height, width, channels = image.shape\n",
    "\n",
    "gray = cv2.cvtColor(image, cv2.COLOR_BGR2GRAY)\n",
    "blur = cv2.GaussianBlur(gray, (5,5), 0)\n",
    "thresh = cv2.threshold(blur, 0, 255, cv2.THRESH_BINARY_INV + cv2.THRESH_OTSU)[1]\n",
    "kernel = cv2.getStructuringElement(cv2.MORPH_RECT, (40, 10))\n",
    "dilate = cv2.dilate(thresh, kernel, iterations=1)"
   ]
  },
  {
   "cell_type": "code",
   "execution_count": 100,
   "id": "f66ccc38-8f09-4faa-b92d-3b6e007c8a31",
   "metadata": {},
   "outputs": [],
   "source": [
    "cnts = cv2.findContours(dilate, cv2.RETR_EXTERNAL, cv2.CHAIN_APPROX_SIMPLE)\n",
    "cnts = cnts[0] if len(cnts) == 2 else cnts[1]\n",
    "cnts = sorted(cnts, key=lambda x : cv2.boundingRect(x)[1]) # Sort based on vertical order\n",
    "\n",
    "staff_count = 0\n",
    "\n",
    "for c in cnts:\n",
    "    x, y, w, h = cv2.boundingRect(c)\n",
    "    \n",
    "    if w > width*0.8:\n",
    "        cv2.rectangle(image, (x, y), (x+w, y+h), (36, 255, 12), 2)\n",
    "\n",
    "        roi = lines_image[y:y+h, x:x+w]\n",
    "        cv2.imwrite(f\"res/roi_{staff_count}.jpg\", roi)\n",
    "        staff_count += 1\n",
    "\n",
    "show_wait_destroy(\"dilate\", dilate)   \n",
    "show_wait_destroy(\"final\", image)   "
   ]
  },
  {
   "cell_type": "code",
   "execution_count": 35,
   "id": "70c3a464-5e68-4b35-90f2-78fd396bef95",
   "metadata": {},
   "outputs": [
    {
     "data": {
      "text/plain": [
       "True"
      ]
     },
     "execution_count": 35,
     "metadata": {},
     "output_type": "execute_result"
    }
   ],
   "source": [
    "cv2.imwrite(\"res/dilate.jpg\", dilate)\n",
    "cv2.imwrite(\"res/final.jpg\", image)"
   ]
  },
  {
   "cell_type": "code",
   "execution_count": 6,
   "id": "cfba069a-60b7-40b8-b19c-9428a89b9f40",
   "metadata": {},
   "outputs": [],
   "source": [
    "def show_wait_destroy(winname, img):\n",
    "    cv2.imshow(winname, img)\n",
    "    cv2.moveWindow(winname, 500, 0)\n",
    "    cv2.waitKey(0)\n",
    "    cv2.destroyWindow(winname)"
   ]
  },
  {
   "cell_type": "code",
   "execution_count": 23,
   "id": "43aa9497-ca79-4279-a21c-6dbf237c1180",
   "metadata": {
    "jupyter": {
     "source_hidden": true
    }
   },
   "outputs": [
    {
     "data": {
      "text/plain": [
       "True"
      ]
     },
     "execution_count": 23,
     "metadata": {},
     "output_type": "execute_result"
    }
   ],
   "source": [
    "# Extract horizontal staff lines\n",
    "for i in range(5):\n",
    "    roi = cv2.imread(f\"res/roi_{i}.jpg\")\n",
    "    gray = cv2.cvtColor(roi, cv2.COLOR_BGR2GRAY)\n",
    "    bw = cv2.threshold(gray, 0, 255, cv2.THRESH_BINARY_INV + cv2.THRESH_OTSU)[1]\n",
    "    \n",
    "    # Show binary image\n",
    "    show_wait_destroy(\"binary\", bw)\n",
    "    \n",
    "    # Create the images that will use to extract the horizontal and vertical lines\n",
    "    horizontal = np.copy(bw)\n",
    "    width = horizontal.shape[1]\n",
    "    \n",
    "    # Specify size on horizontal axis\n",
    "    cols = horizontal.shape[1]\n",
    "    horizontal_size = cols // 30\n",
    "    \n",
    "    # Create structure element for extracting horizontal lines through morphology operations\n",
    "    horizontalStructure = cv2.getStructuringElement(cv2.MORPH_RECT, (round(width*0.8), 1))\n",
    "    \n",
    "    # Apply morphology operations\n",
    "    horizontal = cv2.erode(horizontal, horizontalStructure)\n",
    "    horizontal = cv2.dilate(horizontal, horizontalStructure)\n",
    "    \n",
    "    # Filter based on thickness\n",
    "    contours, _ = cv2.findContours(horizontal, cv2.RETR_EXTERNAL, cv2.CHAIN_APPROX_SIMPLE)\n",
    "    for contour in contours:\n",
    "        # Get bounding box of each contour\n",
    "        x, y, w, h = cv2.boundingRect(contour)\n",
    "    \n",
    "        # Filter based on height (thickness)\n",
    "        if w < width*0.8 and h > 4:  # Adjust this value to filter out thicker beams\n",
    "            cv2.drawContours(horizontal, [contour], -1, 0, -1)\n",
    "\n",
    "    # Optional: Preserve edges\n",
    "    # horizontal = cv2.dilate(horizontal, cv2.getStructuringElement(cv2.MORPH_RECT, (3, 3)), iterations=1)\n",
    "            \n",
    "    # Show extracted horizontal lines\n",
    "    show_wait_destroy(\"horizontal\", horizontal)\n",
    "\n",
    "cv2.imwrite(\"res/horizontal.jpg\", horizontal)"
   ]
  },
  {
   "cell_type": "code",
   "execution_count": 6,
   "id": "676b0006-72c6-4cd5-b976-51b6bc045f1b",
   "metadata": {
    "jupyter": {
     "source_hidden": true
    }
   },
   "outputs": [],
   "source": [
    "def merge_intersecting_bounding_boxes(contours):\n",
    "    # Step 1: Calculate initial bounding boxes\n",
    "    bounding_boxes = [cv2.boundingRect(contour) for contour in contours]\n",
    "\n",
    "    # Step 2: Merge bounding boxes iteratively\n",
    "    def boxes_intersect(box1, box2, min_overlap=2):\n",
    "        x1, y1, w1, h1 = box1\n",
    "        x2, y2, w2, h2 = box2\n",
    "        return x1 + w1 + min_overlap >= x2 and x2 + w2 + min_overlap >= x1 and y1 + h1 + min_overlap >= y2 and y2 + h2 + min_overlap >= y1\n",
    "\n",
    "    def merge_boxes(box1, box2):\n",
    "        x1, y1, w1, h1 = box1\n",
    "        x2, y2, w2, h2 = box2\n",
    "        x_min = min(x1, x2)\n",
    "        y_min = min(y1, y2)\n",
    "        x_max = max(x1 + w1, x2 + w2)\n",
    "        y_max = max(y1 + h1, y2 + h2)\n",
    "        return (x_min, y_min, x_max - x_min, y_max - y_min)\n",
    "\n",
    "    merged = True\n",
    "    while merged:\n",
    "        merged = False\n",
    "        new_boxes = []\n",
    "        skip_indices = set()\n",
    "\n",
    "        # Compare each box with every other box\n",
    "        for i, box1 in enumerate(bounding_boxes):\n",
    "            if i in skip_indices:\n",
    "                continue\n",
    "            merged_box = box1\n",
    "            for j, box2 in enumerate(bounding_boxes):\n",
    "                if i != j and j not in skip_indices and boxes_intersect(merged_box, box2):\n",
    "                    merged_box = merge_boxes(merged_box, box2)\n",
    "                    skip_indices.add(j)\n",
    "                    merged = True\n",
    "\n",
    "            new_boxes.append(merged_box)\n",
    "            skip_indices.add(i)\n",
    "\n",
    "        bounding_boxes = new_boxes  # Update with the newly merged boxes\n",
    "\n",
    "    return bounding_boxes"
   ]
  },
  {
   "cell_type": "code",
   "execution_count": null,
   "id": "cc787002-d2e9-4085-a52a-b6109a790245",
   "metadata": {},
   "outputs": [],
   "source": [
    "# Remove the staff lines\n",
    "\n",
    "for i in range(staff_count):\n",
    "    roi = cv2.imread(f\"res/roi_{i}.jpg\")\n",
    "    gray = cv2.cvtColor(roi, cv2.COLOR_BGR2GRAY)\n",
    "    bw = cv2.threshold(gray, 210, 255, cv2.THRESH_BINARY_INV + cv2.THRESH_OTSU)[1]\n",
    "    \n",
    "    # Show binary image\n",
    "    show_wait_destroy(\"binary\", bw)\n",
    "    vertical = np.copy(bw)\n",
    "    \n",
    "    # rows = vertical.shape[0]\n",
    "    # vertical_size = max(rows // 80, 3)\n",
    "    \n",
    "    # Create structure element for extracting vertical lines through morphology operations\n",
    "    verticalStructure = cv2.getStructuringElement(cv2.MORPH_RECT, (1, 4))\n",
    "    \n",
    "    # Apply morphology operations\n",
    "    vertical = cv2.erode(vertical, verticalStructure)\n",
    "    vertical = cv2.dilate(vertical, verticalStructure)\n",
    "\n",
    "    # Reconstruct noteheads and beams\n",
    "    notehead_kernel = cv2.getStructuringElement(cv2.MORPH_ELLIPSE, (2, 2))\n",
    "    reconstructed = cv2.dilate(vertical, notehead_kernel, iterations=1)\n",
    "\n",
    "    # Invert the image to origin\n",
    "    inverted = cv2.bitwise_not(reconstructed)\n",
    "\n",
    "    # This is optional since we will use YOLO to do object detection\n",
    "    # contours, _ = cv2.findContours(reconstructed, cv2.RETR_EXTERNAL, cv2.CHAIN_APPROX_SIMPLE)\n",
    "    # contours = merge_intersecting_bounding_boxes(contours)\n",
    "    # for x, y, w, h in contours:\n",
    "    #     cv2.rectangle(reconstructed, (x, y), (x+w, y+h), (255, 0, 0), 1)\n",
    "    \n",
    "    # Show extracted vertical lines\n",
    "    show_wait_destroy(f\"res/roi_{i}_reconstructed.jpg\", inverted)\n",
    "    cv2.imwrite(f\"res/roi_{i}_reconstructed.jpg\", inverted)"
   ]
  },
  {
   "cell_type": "code",
   "execution_count": null,
   "id": "b5352ca1-43e3-4182-9152-76a7b8af7cb1",
   "metadata": {
    "jupyter": {
     "source_hidden": true
    }
   },
   "outputs": [],
   "source": [
    "# Morphological method 2\n",
    "# Remove the staff lines\n",
    "\n",
    "for i in range(5):\n",
    "    roi = cv2.imread(f\"res/roi_{i}.jpg\")\n",
    "    gray = cv2.cvtColor(roi, cv2.COLOR_BGR2GRAY)\n",
    "    binary_image = cv2.threshold(gray, 210, 255, cv2.THRESH_BINARY_INV + cv2.THRESH_OTSU)[1]\n",
    "    \n",
    "    # Show binary image\n",
    "    show_wait_destroy(\"binary\", binary_image)\n",
    "        \n",
    "    kernel_length = roi.shape[1] // 40  # Adjust based on the sheet size\n",
    "    horizontal_kernel = cv2.getStructuringElement(cv2.MORPH_RECT, (kernel_length, 1))\n",
    "    detected_lines = cv2.morphologyEx(binary_image, cv2.MORPH_OPEN, horizontal_kernel, iterations=1)\n",
    "\n",
    "    # Step 4: Create a mask for the staff lines\n",
    "    staff_line_mask = detected_lines.copy()\n",
    "\n",
    "    # Step 5: Subtract staff lines from the binary image\n",
    "    lines_removed = cv2.subtract(binary_image, staff_line_mask)\n",
    "\n",
    "    # Step 6: Reconstruct noteheads and symbols\n",
    "    notehead_kernel = cv2.getStructuringElement(cv2.MORPH_ELLIPSE, (3, 3))  # Small elliptical kernel\n",
    "    reconstructed_image = cv2.dilate(lines_removed, notehead_kernel, iterations=1)\n",
    "    \n",
    "    # Show extracted vertical lines\n",
    "    show_wait_destroy(\"vertical\", reconstructed_image)\n",
    "    "
   ]
  },
  {
   "cell_type": "code",
   "execution_count": 30,
   "id": "c3e9bfb8-77b8-42d0-be16-6ffb60df1827",
   "metadata": {
    "jupyter": {
     "source_hidden": true
    }
   },
   "outputs": [],
   "source": [
    "# Load the image in grayscale\n",
    "roi = cv2.imread(f\"res/roi_1.jpg\")\n",
    "gray = cv2.cvtColor(roi, cv2.COLOR_BGR2GRAY)\n",
    "bw = cv2.threshold(gray, 240, 255, cv2.THRESH_BINARY_INV)[1]\n",
    "\n",
    "# Show the results\n",
    "cv2.imshow(\"Original\", gray)\n",
    "cv2.imshow(\"Enhanced (Black, Shadows, Contrast)\", bw)\n",
    "cv2.waitKey(0)\n",
    "cv2.destroyAllWindows()"
   ]
  }
 ],
 "metadata": {
  "kernelspec": {
   "display_name": "Python 3 (ipykernel)",
   "language": "python",
   "name": "python3"
  },
  "language_info": {
   "codemirror_mode": {
    "name": "ipython",
    "version": 3
   },
   "file_extension": ".py",
   "mimetype": "text/x-python",
   "name": "python",
   "nbconvert_exporter": "python",
   "pygments_lexer": "ipython3",
   "version": "3.11.5"
  }
 },
 "nbformat": 4,
 "nbformat_minor": 5
}
